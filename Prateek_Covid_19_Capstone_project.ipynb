{
 "cells": [
  {
   "cell_type": "markdown",
   "metadata": {
    "id": "bFlE6vCFaGzg"
   },
   "source": [
    "# **Project : Analyzing the trends of COVID-19 with Python**\n"
   ]
  },
  {
   "cell_type": "markdown",
   "metadata": {
    "id": "aMYcSgFGaQsk"
   },
   "source": [
    "#Problem Statement:\n",
    "Given data about COVID-19 patients, write code to visualize the impact and\n",
    "analyze the trend of rate of infection and recovery as well as make predictions\n",
    "about the number of cases expected a week in future based on the current\n",
    "trends.\n",
    "#Dataset:\n",
    "CSV and Excel files containing data about the number of COVID-19 confirmed\n",
    "deaths and recovered patients both around the world and in India. Download Link\n",
    "#Guidelines:\n",
    "● Use pandas to accumulate data from multiple data files.\n",
    "\n",
    "● Use plotly (visualization library) to create interactive visualizations.\n",
    "\n",
    "● Use Facebook prophet library to make time series models.\n",
    "\n",
    "● Visualize the prediction by combining these technologies.\n"
   ]
  },
  {
   "cell_type": "code",
   "execution_count": 1,
   "metadata": {
    "id": "JFBO3m8CahwZ"
   },
   "outputs": [],
   "source": [
    "# Importing required Libraries :-\n",
    "\n",
    "import pandas as pd\n",
    "import numpy as np\n",
    "import matplotlib.pyplot as plt\n",
    "import seaborn as sns\n",
    "\n",
    "\n",
    "# Warnings\n",
    "\n",
    "import warnings\n",
    "warnings.filterwarnings('ignore')"
   ]
  },
  {
   "cell_type": "markdown",
   "metadata": {
    "id": "5DxVghjUfDz9"
   },
   "source": [
    "# Loading the Dataset :"
   ]
  },
  {
   "cell_type": "code",
   "execution_count": 2,
   "metadata": {
    "colab": {
     "base_uri": "https://localhost:8080/",
     "height": 423
    },
    "id": "Bl_4ZLGeajVX",
    "outputId": "8037d04a-1cf0-48d2-a453-7944b83010d4"
   },
   "outputs": [
    {
     "ename": "FileNotFoundError",
     "evalue": "[Errno 2] No such file or directory: '/content/covid_19_clean_complete.csv'",
     "output_type": "error",
     "traceback": [
      "\u001b[1;31m---------------------------------------------------------------------------\u001b[0m",
      "\u001b[1;31mFileNotFoundError\u001b[0m                         Traceback (most recent call last)",
      "Cell \u001b[1;32mIn[2], line 1\u001b[0m\n\u001b[1;32m----> 1\u001b[0m df\u001b[38;5;241m=\u001b[39mpd\u001b[38;5;241m.\u001b[39mread_csv(\u001b[38;5;124m\"\u001b[39m\u001b[38;5;124m/content/covid_19_clean_complete.csv\u001b[39m\u001b[38;5;124m\"\u001b[39m)\n\u001b[0;32m      2\u001b[0m df\n",
      "File \u001b[1;32m~\\anaconda3\\Lib\\site-packages\\pandas\\io\\parsers\\readers.py:1026\u001b[0m, in \u001b[0;36mread_csv\u001b[1;34m(filepath_or_buffer, sep, delimiter, header, names, index_col, usecols, dtype, engine, converters, true_values, false_values, skipinitialspace, skiprows, skipfooter, nrows, na_values, keep_default_na, na_filter, verbose, skip_blank_lines, parse_dates, infer_datetime_format, keep_date_col, date_parser, date_format, dayfirst, cache_dates, iterator, chunksize, compression, thousands, decimal, lineterminator, quotechar, quoting, doublequote, escapechar, comment, encoding, encoding_errors, dialect, on_bad_lines, delim_whitespace, low_memory, memory_map, float_precision, storage_options, dtype_backend)\u001b[0m\n\u001b[0;32m   1013\u001b[0m kwds_defaults \u001b[38;5;241m=\u001b[39m _refine_defaults_read(\n\u001b[0;32m   1014\u001b[0m     dialect,\n\u001b[0;32m   1015\u001b[0m     delimiter,\n\u001b[1;32m   (...)\u001b[0m\n\u001b[0;32m   1022\u001b[0m     dtype_backend\u001b[38;5;241m=\u001b[39mdtype_backend,\n\u001b[0;32m   1023\u001b[0m )\n\u001b[0;32m   1024\u001b[0m kwds\u001b[38;5;241m.\u001b[39mupdate(kwds_defaults)\n\u001b[1;32m-> 1026\u001b[0m \u001b[38;5;28;01mreturn\u001b[39;00m _read(filepath_or_buffer, kwds)\n",
      "File \u001b[1;32m~\\anaconda3\\Lib\\site-packages\\pandas\\io\\parsers\\readers.py:620\u001b[0m, in \u001b[0;36m_read\u001b[1;34m(filepath_or_buffer, kwds)\u001b[0m\n\u001b[0;32m    617\u001b[0m _validate_names(kwds\u001b[38;5;241m.\u001b[39mget(\u001b[38;5;124m\"\u001b[39m\u001b[38;5;124mnames\u001b[39m\u001b[38;5;124m\"\u001b[39m, \u001b[38;5;28;01mNone\u001b[39;00m))\n\u001b[0;32m    619\u001b[0m \u001b[38;5;66;03m# Create the parser.\u001b[39;00m\n\u001b[1;32m--> 620\u001b[0m parser \u001b[38;5;241m=\u001b[39m TextFileReader(filepath_or_buffer, \u001b[38;5;241m*\u001b[39m\u001b[38;5;241m*\u001b[39mkwds)\n\u001b[0;32m    622\u001b[0m \u001b[38;5;28;01mif\u001b[39;00m chunksize \u001b[38;5;129;01mor\u001b[39;00m iterator:\n\u001b[0;32m    623\u001b[0m     \u001b[38;5;28;01mreturn\u001b[39;00m parser\n",
      "File \u001b[1;32m~\\anaconda3\\Lib\\site-packages\\pandas\\io\\parsers\\readers.py:1620\u001b[0m, in \u001b[0;36mTextFileReader.__init__\u001b[1;34m(self, f, engine, **kwds)\u001b[0m\n\u001b[0;32m   1617\u001b[0m     \u001b[38;5;28mself\u001b[39m\u001b[38;5;241m.\u001b[39moptions[\u001b[38;5;124m\"\u001b[39m\u001b[38;5;124mhas_index_names\u001b[39m\u001b[38;5;124m\"\u001b[39m] \u001b[38;5;241m=\u001b[39m kwds[\u001b[38;5;124m\"\u001b[39m\u001b[38;5;124mhas_index_names\u001b[39m\u001b[38;5;124m\"\u001b[39m]\n\u001b[0;32m   1619\u001b[0m \u001b[38;5;28mself\u001b[39m\u001b[38;5;241m.\u001b[39mhandles: IOHandles \u001b[38;5;241m|\u001b[39m \u001b[38;5;28;01mNone\u001b[39;00m \u001b[38;5;241m=\u001b[39m \u001b[38;5;28;01mNone\u001b[39;00m\n\u001b[1;32m-> 1620\u001b[0m \u001b[38;5;28mself\u001b[39m\u001b[38;5;241m.\u001b[39m_engine \u001b[38;5;241m=\u001b[39m \u001b[38;5;28mself\u001b[39m\u001b[38;5;241m.\u001b[39m_make_engine(f, \u001b[38;5;28mself\u001b[39m\u001b[38;5;241m.\u001b[39mengine)\n",
      "File \u001b[1;32m~\\anaconda3\\Lib\\site-packages\\pandas\\io\\parsers\\readers.py:1880\u001b[0m, in \u001b[0;36mTextFileReader._make_engine\u001b[1;34m(self, f, engine)\u001b[0m\n\u001b[0;32m   1878\u001b[0m     \u001b[38;5;28;01mif\u001b[39;00m \u001b[38;5;124m\"\u001b[39m\u001b[38;5;124mb\u001b[39m\u001b[38;5;124m\"\u001b[39m \u001b[38;5;129;01mnot\u001b[39;00m \u001b[38;5;129;01min\u001b[39;00m mode:\n\u001b[0;32m   1879\u001b[0m         mode \u001b[38;5;241m+\u001b[39m\u001b[38;5;241m=\u001b[39m \u001b[38;5;124m\"\u001b[39m\u001b[38;5;124mb\u001b[39m\u001b[38;5;124m\"\u001b[39m\n\u001b[1;32m-> 1880\u001b[0m \u001b[38;5;28mself\u001b[39m\u001b[38;5;241m.\u001b[39mhandles \u001b[38;5;241m=\u001b[39m get_handle(\n\u001b[0;32m   1881\u001b[0m     f,\n\u001b[0;32m   1882\u001b[0m     mode,\n\u001b[0;32m   1883\u001b[0m     encoding\u001b[38;5;241m=\u001b[39m\u001b[38;5;28mself\u001b[39m\u001b[38;5;241m.\u001b[39moptions\u001b[38;5;241m.\u001b[39mget(\u001b[38;5;124m\"\u001b[39m\u001b[38;5;124mencoding\u001b[39m\u001b[38;5;124m\"\u001b[39m, \u001b[38;5;28;01mNone\u001b[39;00m),\n\u001b[0;32m   1884\u001b[0m     compression\u001b[38;5;241m=\u001b[39m\u001b[38;5;28mself\u001b[39m\u001b[38;5;241m.\u001b[39moptions\u001b[38;5;241m.\u001b[39mget(\u001b[38;5;124m\"\u001b[39m\u001b[38;5;124mcompression\u001b[39m\u001b[38;5;124m\"\u001b[39m, \u001b[38;5;28;01mNone\u001b[39;00m),\n\u001b[0;32m   1885\u001b[0m     memory_map\u001b[38;5;241m=\u001b[39m\u001b[38;5;28mself\u001b[39m\u001b[38;5;241m.\u001b[39moptions\u001b[38;5;241m.\u001b[39mget(\u001b[38;5;124m\"\u001b[39m\u001b[38;5;124mmemory_map\u001b[39m\u001b[38;5;124m\"\u001b[39m, \u001b[38;5;28;01mFalse\u001b[39;00m),\n\u001b[0;32m   1886\u001b[0m     is_text\u001b[38;5;241m=\u001b[39mis_text,\n\u001b[0;32m   1887\u001b[0m     errors\u001b[38;5;241m=\u001b[39m\u001b[38;5;28mself\u001b[39m\u001b[38;5;241m.\u001b[39moptions\u001b[38;5;241m.\u001b[39mget(\u001b[38;5;124m\"\u001b[39m\u001b[38;5;124mencoding_errors\u001b[39m\u001b[38;5;124m\"\u001b[39m, \u001b[38;5;124m\"\u001b[39m\u001b[38;5;124mstrict\u001b[39m\u001b[38;5;124m\"\u001b[39m),\n\u001b[0;32m   1888\u001b[0m     storage_options\u001b[38;5;241m=\u001b[39m\u001b[38;5;28mself\u001b[39m\u001b[38;5;241m.\u001b[39moptions\u001b[38;5;241m.\u001b[39mget(\u001b[38;5;124m\"\u001b[39m\u001b[38;5;124mstorage_options\u001b[39m\u001b[38;5;124m\"\u001b[39m, \u001b[38;5;28;01mNone\u001b[39;00m),\n\u001b[0;32m   1889\u001b[0m )\n\u001b[0;32m   1890\u001b[0m \u001b[38;5;28;01massert\u001b[39;00m \u001b[38;5;28mself\u001b[39m\u001b[38;5;241m.\u001b[39mhandles \u001b[38;5;129;01mis\u001b[39;00m \u001b[38;5;129;01mnot\u001b[39;00m \u001b[38;5;28;01mNone\u001b[39;00m\n\u001b[0;32m   1891\u001b[0m f \u001b[38;5;241m=\u001b[39m \u001b[38;5;28mself\u001b[39m\u001b[38;5;241m.\u001b[39mhandles\u001b[38;5;241m.\u001b[39mhandle\n",
      "File \u001b[1;32m~\\anaconda3\\Lib\\site-packages\\pandas\\io\\common.py:873\u001b[0m, in \u001b[0;36mget_handle\u001b[1;34m(path_or_buf, mode, encoding, compression, memory_map, is_text, errors, storage_options)\u001b[0m\n\u001b[0;32m    868\u001b[0m \u001b[38;5;28;01melif\u001b[39;00m \u001b[38;5;28misinstance\u001b[39m(handle, \u001b[38;5;28mstr\u001b[39m):\n\u001b[0;32m    869\u001b[0m     \u001b[38;5;66;03m# Check whether the filename is to be opened in binary mode.\u001b[39;00m\n\u001b[0;32m    870\u001b[0m     \u001b[38;5;66;03m# Binary mode does not support 'encoding' and 'newline'.\u001b[39;00m\n\u001b[0;32m    871\u001b[0m     \u001b[38;5;28;01mif\u001b[39;00m ioargs\u001b[38;5;241m.\u001b[39mencoding \u001b[38;5;129;01mand\u001b[39;00m \u001b[38;5;124m\"\u001b[39m\u001b[38;5;124mb\u001b[39m\u001b[38;5;124m\"\u001b[39m \u001b[38;5;129;01mnot\u001b[39;00m \u001b[38;5;129;01min\u001b[39;00m ioargs\u001b[38;5;241m.\u001b[39mmode:\n\u001b[0;32m    872\u001b[0m         \u001b[38;5;66;03m# Encoding\u001b[39;00m\n\u001b[1;32m--> 873\u001b[0m         handle \u001b[38;5;241m=\u001b[39m \u001b[38;5;28mopen\u001b[39m(\n\u001b[0;32m    874\u001b[0m             handle,\n\u001b[0;32m    875\u001b[0m             ioargs\u001b[38;5;241m.\u001b[39mmode,\n\u001b[0;32m    876\u001b[0m             encoding\u001b[38;5;241m=\u001b[39mioargs\u001b[38;5;241m.\u001b[39mencoding,\n\u001b[0;32m    877\u001b[0m             errors\u001b[38;5;241m=\u001b[39merrors,\n\u001b[0;32m    878\u001b[0m             newline\u001b[38;5;241m=\u001b[39m\u001b[38;5;124m\"\u001b[39m\u001b[38;5;124m\"\u001b[39m,\n\u001b[0;32m    879\u001b[0m         )\n\u001b[0;32m    880\u001b[0m     \u001b[38;5;28;01melse\u001b[39;00m:\n\u001b[0;32m    881\u001b[0m         \u001b[38;5;66;03m# Binary mode\u001b[39;00m\n\u001b[0;32m    882\u001b[0m         handle \u001b[38;5;241m=\u001b[39m \u001b[38;5;28mopen\u001b[39m(handle, ioargs\u001b[38;5;241m.\u001b[39mmode)\n",
      "\u001b[1;31mFileNotFoundError\u001b[0m: [Errno 2] No such file or directory: '/content/covid_19_clean_complete.csv'"
     ]
    }
   ],
   "source": [
    "df=pd.read_csv(\"/content/covid_19_clean_complete.csv\")\n",
    "df"
   ]
  },
  {
   "cell_type": "code",
   "execution_count": null,
   "metadata": {
    "colab": {
     "base_uri": "https://localhost:8080/"
    },
    "id": "HVn58SKKY_Dz",
    "outputId": "6f98f1e3-010a-4d0c-eb85-fd20455eab4e"
   },
   "outputs": [],
   "source": [
    "df.info()"
   ]
  },
  {
   "cell_type": "markdown",
   "metadata": {
    "id": "SCCYK-zSe-Sd"
   },
   "source": [
    "# Checking for Null values"
   ]
  },
  {
   "cell_type": "code",
   "execution_count": null,
   "metadata": {
    "colab": {
     "base_uri": "https://localhost:8080/",
     "height": 397
    },
    "id": "9EySg5u4ajR_",
    "outputId": "56745217-7d3f-471d-8181-ad0319ca1953"
   },
   "outputs": [],
   "source": [
    "df.isnull().sum()"
   ]
  },
  {
   "cell_type": "markdown",
   "metadata": {
    "id": "a6k41GfqfKDp"
   },
   "source": [
    "# Dropping unnecessary ones :"
   ]
  },
  {
   "cell_type": "code",
   "execution_count": null,
   "metadata": {
    "colab": {
     "base_uri": "https://localhost:8080/",
     "height": 423
    },
    "id": "oudS_SfCajPy",
    "outputId": "30f2f6f0-a6dd-47bf-d70f-d82d4211c82b"
   },
   "outputs": [],
   "source": [
    "# as removing the null values from \"province/state\" is not good idea as some null values consist data in other fields ,\n",
    "# therefore removing the \"province/state\" columns itself.\n",
    "\n",
    "\n",
    "df=df.drop(['Province/State'],axis=1)\n",
    "df"
   ]
  },
  {
   "cell_type": "markdown",
   "metadata": {
    "id": "ww3xANHvfWca"
   },
   "source": [
    "# Renaming Required :"
   ]
  },
  {
   "cell_type": "code",
   "execution_count": null,
   "metadata": {
    "id": "59KfYxJwajNb"
   },
   "outputs": [],
   "source": [
    "# renaming the column \"Country/Region\" to country to make things simpler.\n",
    "\n",
    "\n",
    "df=df.rename(columns={'Country/Region':'Country'})"
   ]
  },
  {
   "cell_type": "markdown",
   "metadata": {
    "id": "aEj11KFGfbGv"
   },
   "source": [
    "# Duplicate Check :"
   ]
  },
  {
   "cell_type": "code",
   "execution_count": null,
   "metadata": {
    "colab": {
     "base_uri": "https://localhost:8080/"
    },
    "id": "iR41VB7lajK5",
    "outputId": "b2092405-61ab-4bc9-e71a-44a3f56c4645"
   },
   "outputs": [],
   "source": [
    "# checking the duplicates\n",
    "\n",
    "df.duplicated().sum()"
   ]
  },
  {
   "cell_type": "markdown",
   "metadata": {
    "id": "BhF7qWJTZdUN"
   },
   "source": [
    "# Let's see the top populated rows with max date :"
   ]
  },
  {
   "cell_type": "code",
   "execution_count": null,
   "metadata": {
    "colab": {
     "base_uri": "https://localhost:8080/",
     "height": 423
    },
    "id": "AYoSwZX0ZPAg",
    "outputId": "063b2e86-6e74-4d61-f187-ee1dc2ed86d1"
   },
   "outputs": [],
   "source": [
    "top=df[df['Date']=='2020-07-27']\n",
    "\n",
    "top.groupby(by='Country')[['Confirmed','Deaths','Recovered','Active']].sum().reset_index()\n"
   ]
  },
  {
   "cell_type": "markdown",
   "metadata": {
    "id": "JsTFDgYhdKgs"
   },
   "source": [
    "# Seeing all confirmed cases in the dataset :"
   ]
  },
  {
   "cell_type": "code",
   "execution_count": null,
   "metadata": {
    "colab": {
     "base_uri": "https://localhost:8080/",
     "height": 423
    },
    "id": "Y-S6bMzoZO8_",
    "outputId": "658f21f2-61ad-4243-d304-045fa036ec02"
   },
   "outputs": [],
   "source": [
    "Confirmed=df.groupby(by='Date')['Confirmed'].sum().reset_index()\n",
    "Confirmed"
   ]
  },
  {
   "cell_type": "markdown",
   "metadata": {
    "id": "mOH5e7qddsLm"
   },
   "source": [
    "# Visualize the above ones"
   ]
  },
  {
   "cell_type": "code",
   "execution_count": null,
   "metadata": {
    "colab": {
     "base_uri": "https://localhost:8080/",
     "height": 609
    },
    "id": "Fi4A9TQ-ZO6G",
    "outputId": "d35bbb69-d320-442b-aaf5-b7e4201d6739"
   },
   "outputs": [],
   "source": [
    "plt.figure(figsize=(20,7))\n",
    "sns.lineplot(Confirmed,x='Date',y='Confirmed',color='Red')\n",
    "plt.xticks(rotation=90)\n",
    "plt.show()"
   ]
  },
  {
   "cell_type": "markdown",
   "metadata": {
    "id": "i_dtd-S3eXky"
   },
   "source": [
    "# **Now let's find out the top 10 countries for recovered , deaths and active cases**"
   ]
  },
  {
   "cell_type": "markdown",
   "metadata": {
    "id": "xL2gmvfvefPz"
   },
   "source": [
    "# 1. Recovered Cases for top 10"
   ]
  },
  {
   "cell_type": "code",
   "execution_count": null,
   "metadata": {
    "colab": {
     "base_uri": "https://localhost:8080/",
     "height": 363
    },
    "id": "UzfUyN7AZO3X",
    "outputId": "7e975ec5-ce4d-43c4-a492-31f479996d2a"
   },
   "outputs": [],
   "source": [
    "top_10_recovered=df.groupby(by='Country')['Recovered'].sum().sort_values(ascending=False).head(10).reset_index()\n",
    "top_10_recovered"
   ]
  },
  {
   "cell_type": "markdown",
   "metadata": {
    "id": "tecOYVDOf9sG"
   },
   "source": [
    "# Visualize for top-10-recovered"
   ]
  },
  {
   "cell_type": "code",
   "execution_count": null,
   "metadata": {
    "colab": {
     "base_uri": "https://localhost:8080/",
     "height": 513
    },
    "id": "352pCb-vf8oP",
    "outputId": "fa999cfe-4eba-4daa-aac6-23b052ffb57e"
   },
   "outputs": [],
   "source": [
    "sns.barplot(data=top_10_recovered,x='Country',y='Recovered')\n",
    "plt.title('Top_10_Recovered countries')\n",
    "plt.xticks(rotation=45)\n",
    "plt.show()"
   ]
  },
  {
   "cell_type": "markdown",
   "metadata": {
    "id": "0uYb7KJagbGR"
   },
   "source": [
    "# 2. Deaths Cases for Top-10 :"
   ]
  },
  {
   "cell_type": "code",
   "execution_count": null,
   "metadata": {
    "colab": {
     "base_uri": "https://localhost:8080/",
     "height": 363
    },
    "id": "4ZqBD9Fzf8kr",
    "outputId": "2a561742-63d7-48cc-981f-bffb1b84730a"
   },
   "outputs": [],
   "source": [
    "top_10_deaths=df.groupby(by='Country')['Deaths'].sum().sort_values(ascending=False).head(10).reset_index()\n",
    "top_10_deaths"
   ]
  },
  {
   "cell_type": "markdown",
   "metadata": {
    "id": "QLZsy1b-g0Hk"
   },
   "source": [
    "# Visualize the above ones :"
   ]
  },
  {
   "cell_type": "code",
   "execution_count": null,
   "metadata": {
    "colab": {
     "base_uri": "https://localhost:8080/",
     "height": 546
    },
    "id": "Gi77DhHGf8iI",
    "outputId": "57b18887-1985-43df-bae5-235b35337a69"
   },
   "outputs": [],
   "source": [
    "sns.barplot(data=top_10_deaths,x='Country',y='Deaths')\n",
    "plt.title(\"Top_10_countries with Death Rate\")\n",
    "plt.xticks(rotation=45)\n",
    "plt.show()"
   ]
  },
  {
   "cell_type": "markdown",
   "metadata": {
    "id": "RIypXZR5hSyS"
   },
   "source": [
    "# 3. Active Cases for Top-10 :"
   ]
  },
  {
   "cell_type": "code",
   "execution_count": null,
   "metadata": {
    "colab": {
     "base_uri": "https://localhost:8080/",
     "height": 363
    },
    "id": "tIZjq2oRf8fU",
    "outputId": "8ddb2bb9-0c52-4bb6-f1de-2fad15f8f27e"
   },
   "outputs": [],
   "source": [
    "top_10_active=df.groupby(by='Country')['Active'].sum().sort_values(ascending=False).head(10).reset_index()\n",
    "top_10_active"
   ]
  },
  {
   "cell_type": "markdown",
   "metadata": {
    "id": "n2YagJvxhrZp"
   },
   "source": [
    "# Visualize the above ones :"
   ]
  },
  {
   "cell_type": "code",
   "execution_count": null,
   "metadata": {
    "colab": {
     "base_uri": "https://localhost:8080/",
     "height": 546
    },
    "id": "Ht_FLBqgf8cj",
    "outputId": "5c113373-ff56-4efe-d7d2-8beae5ae261b"
   },
   "outputs": [],
   "source": [
    "sns.barplot(data=top_10_active,x='Country',y='Active')\n",
    "plt.title(\"top_10 countries with Active Cases\")\n",
    "plt.xticks(rotation=45)\n",
    "plt.show()"
   ]
  },
  {
   "cell_type": "markdown",
   "metadata": {
    "id": "znY13CGLfwBU"
   },
   "source": [
    "# **Let us see the top 3 countries US , China & India specifically for Confirmed , Death and Recovered cases.**"
   ]
  },
  {
   "cell_type": "code",
   "execution_count": null,
   "metadata": {
    "id": "gkkxUCy_ajIX"
   },
   "outputs": [],
   "source": [
    "US=df[(df['Country']==\"US\")]\n",
    "China=df[df['Country']=='China']\n",
    "India=df[df['Country']==\"India\"]"
   ]
  },
  {
   "cell_type": "markdown",
   "metadata": {
    "id": "xLGzeV5pnzGc"
   },
   "source": [
    "# Confirmed Data :"
   ]
  },
  {
   "cell_type": "code",
   "execution_count": null,
   "metadata": {
    "colab": {
     "base_uri": "https://localhost:8080/",
     "height": 616
    },
    "id": "V_5Aoa-frnD4",
    "outputId": "595721c3-df36-48e5-a146-85b9af11818c"
   },
   "outputs": [],
   "source": [
    "US_confirmed=pd.DataFrame(US,columns=['Date','Confirmed'])            # RED\n",
    "China_confirmed=pd.DataFrame(China,columns=['Date','Confirmed'])      # BLUE\n",
    "India_confirmed=pd.DataFrame(India,columns=['Date','Confirmed'])      # GREEN\n",
    "\n",
    "# plotting the confirmed cases in these 3 countries\n",
    "\n",
    "plt.figure(figsize=(20,7))\n",
    "sns.pointplot(data=US_confirmed,x='Date',y='Confirmed',color='red',label='US',marker='*',markersize=5)\n",
    "sns.pointplot(data=China_confirmed,x='Date',y='Confirmed',color='blue',label=\"China\",marker='D',markersize=5)\n",
    "sns.pointplot(data=India_confirmed,x='Date',y='Confirmed',color='green',linestyle='--',label=\"India\",marker='o',markersize=5)\n",
    "plt.legend(title='Country',loc='best',edgecolor='black')\n",
    "plt.xticks(rotation=90)\n",
    "plt.show()"
   ]
  },
  {
   "cell_type": "markdown",
   "metadata": {
    "id": "a6FYB5hTnWC-"
   },
   "source": [
    "# Insights:\n",
    "\n",
    "* US has more confirmed cases with increase of time.\n",
    "\n",
    "* India has increase in cases but not more than US.\n",
    "\n",
    "* China maintained a constant, while no increase in cases with time."
   ]
  },
  {
   "cell_type": "markdown",
   "metadata": {
    "id": "bMfUofHnoKIZ"
   },
   "source": [
    "# Deaths Data :"
   ]
  },
  {
   "cell_type": "code",
   "execution_count": null,
   "metadata": {
    "colab": {
     "base_uri": "https://localhost:8080/",
     "height": 589
    },
    "id": "JJOF3Is9ajDS",
    "outputId": "2c69c91b-066c-448f-cd9c-9aa0a946fcce"
   },
   "outputs": [],
   "source": [
    "US_death=pd.DataFrame(US,columns=['Date','Deaths'])            # RED\n",
    "China_death=pd.DataFrame(China,columns=['Date','Deaths'])         # BLUE\n",
    "India_death=pd.DataFrame(India,columns=['Date','Deaths'])         # GREEN\n",
    "\n",
    "# plotting the deaths data of these 3 countries\n",
    "plt.figure(figsize=(20,7))\n",
    "sns.lineplot(US_death,x='Date',y='Deaths',color='red',linestyle='-.',label='US')\n",
    "sns.lineplot(China_death,x='Date',y='Deaths',color='blue',linestyle='-.',label='China')\n",
    "sns.lineplot(India_death,x='Date',y='Deaths',color='green',linestyle='-.',label='India')\n",
    "plt.legend(title='Country',loc='best')\n",
    "plt.xticks(rotation=90)\n",
    "plt.show()"
   ]
  },
  {
   "cell_type": "markdown",
   "metadata": {
    "id": "6cPgXvMrt_iG"
   },
   "source": [
    "# Insights:\n",
    "\n",
    "* US have high Death rate over the time.\n",
    "* India have less death rate as compare to US.\n",
    "* China have a constant , death rate as of same we have seen in confirmed cases ."
   ]
  },
  {
   "cell_type": "markdown",
   "metadata": {
    "id": "kWD6uzaWucAJ"
   },
   "source": [
    "# Recovered Data :"
   ]
  },
  {
   "cell_type": "code",
   "execution_count": null,
   "metadata": {
    "colab": {
     "base_uri": "https://localhost:8080/",
     "height": 613
    },
    "id": "ePfQpTHGubqf",
    "outputId": "675cdb78-12f3-499c-8383-b2a04562ec1f"
   },
   "outputs": [],
   "source": [
    "US_recovered=pd.DataFrame(US,columns=['Date','Recovered'])            # RED\n",
    "China_recovered=pd.DataFrame(China,columns=['Date','Recovered'])         # BLUE\n",
    "India_recoverd=pd.DataFrame(India,columns=['Date','Recovered'])         # GREEN\n",
    "\n",
    "\n",
    "# plotting the recovered data of these 3 countries\n",
    "plt.figure(figsize=(20,7))\n",
    "sns.lineplot(US_recovered,x='Date',y='Recovered',color='red',linestyle='-.',label='US')\n",
    "sns.lineplot(China_recovered,x='Date',y='Recovered',color='blue',linestyle='-.',label='China')\n",
    "sns.lineplot(India_recoverd,x='Date',y='Recovered',color='green',linestyle='-.',label='India')\n",
    "plt.legend(title='Country',loc='best')\n",
    "plt.xticks(rotation=90)\n",
    "plt.show()\n"
   ]
  },
  {
   "cell_type": "markdown",
   "metadata": {
    "id": "TVs7BvJ5vNql"
   },
   "source": [
    "# Insights:\n",
    "\n",
    "* US and India have recovery rate.\n",
    "* no recovery rate in China."
   ]
  },
  {
   "cell_type": "markdown",
   "metadata": {
    "id": "KUbe4oRXvjEi"
   },
   "source": [
    "# Active Cases :"
   ]
  },
  {
   "cell_type": "code",
   "execution_count": null,
   "metadata": {
    "colab": {
     "base_uri": "https://localhost:8080/",
     "height": 611
    },
    "id": "pJ58Q_XhubnB",
    "outputId": "6eeddd99-3f44-4a3d-ccd1-ae1c643c10d4"
   },
   "outputs": [],
   "source": [
    "US_active=pd.DataFrame(US,columns=['Date','Active'])            # RED\n",
    "China_active=pd.DataFrame(China,columns=['Date','Active'])         # BLUE\n",
    "India_active=pd.DataFrame(India,columns=['Date','Active'])         # GREEN\n",
    "\n",
    "# plotting the active data of these three countries : -\n",
    "\n",
    "plt.figure(figsize=(20,7))\n",
    "sns.pointplot(US_active,x='Date',y='Active',color='red',linestyle='-.',label='US')\n",
    "sns.pointplot(China_active,x='Date',y='Active',color='blue',linestyle='-.',label='China')\n",
    "sns.pointplot(India_active,x='Date',y='Active',color='green',linestyle='-.',label='India')\n",
    "plt.legend(title='Country',loc='best')\n",
    "plt.xticks(rotation=90)\n",
    "plt.show()"
   ]
  },
  {
   "cell_type": "markdown",
   "metadata": {
    "id": "YR401f4EwROr"
   },
   "source": [
    "# Insights:\n",
    "\n",
    "* US have highest no. of active cases.\n",
    "\n",
    "* India have less active cases as compared to US.\n",
    "\n",
    "* China is constant, as no activity on the China data."
   ]
  },
  {
   "cell_type": "code",
   "execution_count": null,
   "metadata": {
    "id": "obnKvONXubkW"
   },
   "outputs": [],
   "source": []
  },
  {
   "cell_type": "markdown",
   "metadata": {
    "id": "VQXixlJYO77R"
   },
   "source": [
    "# **Let's Forecast for next 7 Days for every category of cases**"
   ]
  },
  {
   "cell_type": "markdown",
   "metadata": {
    "id": "YCxSCEfFSPP3"
   },
   "source": [
    "# loading dataset again: -"
   ]
  },
  {
   "cell_type": "code",
   "execution_count": null,
   "metadata": {
    "colab": {
     "base_uri": "https://localhost:8080/",
     "height": 423
    },
    "id": "v1XEVIUbubh2",
    "outputId": "e865a89b-398c-455b-cc5b-5a9d877658e9"
   },
   "outputs": [],
   "source": [
    "data=pd.read_csv('/content/covid_19_clean_complete.csv',parse_dates=['Date'])\n",
    "# parse_date will change the Date columns to date_time datatype\n",
    "\n",
    "data"
   ]
  },
  {
   "cell_type": "code",
   "execution_count": null,
   "metadata": {
    "colab": {
     "base_uri": "https://localhost:8080/"
    },
    "id": "jnj_obc9WTmc",
    "outputId": "e4ba4fba-b51f-4659-8b4f-1a35156988c4"
   },
   "outputs": [],
   "source": [
    "data.info()"
   ]
  },
  {
   "cell_type": "markdown",
   "metadata": {
    "id": "4RyYUhfQWpS_"
   },
   "source": [
    "# creating different Datasets for predictions"
   ]
  },
  {
   "cell_type": "code",
   "execution_count": null,
   "metadata": {
    "id": "OmuGK5vnWTi5"
   },
   "outputs": [],
   "source": [
    "# creating new dataset for \"confirmed\"\n",
    "\n",
    "confirmed=data.groupby(by='Date').sum()['Confirmed'].reset_index()\n",
    "\n",
    "# creating new dataset for \"recovered\"\n",
    "\n",
    "recovered=data.groupby(by='Date').sum()['Recovered'].reset_index()\n",
    "\n",
    "# creating new dataset for \"Deaths\"\n",
    "\n",
    "deaths=data.groupby(by='Date').sum()['Deaths'].reset_index()\n",
    "\n",
    "# creating new dataset for \"Active\"\n",
    "\n",
    "active=data.groupby(by='Date').sum()['Active'].reset_index()"
   ]
  },
  {
   "cell_type": "markdown",
   "metadata": {
    "id": "kj91t0RcXgmk"
   },
   "source": [
    "# 1. Let us Forecast for \"Confirmed Cases\" :"
   ]
  },
  {
   "cell_type": "code",
   "execution_count": null,
   "metadata": {
    "colab": {
     "base_uri": "https://localhost:8080/",
     "height": 206
    },
    "id": "CqpEufslWTgJ",
    "outputId": "56f3dad3-c5a0-4792-e2e3-95445f42941d"
   },
   "outputs": [],
   "source": [
    "# renaming the columns of confirmed dataset\n",
    "\n",
    "confirmed.columns=['ds','y']\n",
    "\n",
    "confirmed.head()"
   ]
  },
  {
   "cell_type": "markdown",
   "metadata": {
    "id": "no8n_lwWScZ0"
   },
   "source": [
    "# installing Prophet"
   ]
  },
  {
   "cell_type": "code",
   "execution_count": null,
   "metadata": {
    "colab": {
     "base_uri": "https://localhost:8080/"
    },
    "id": "i44kPJzsubfY",
    "outputId": "5e8d4b89-f9bb-4eeb-f5d3-f1cae24caae9"
   },
   "outputs": [],
   "source": [
    "!pip install prophet"
   ]
  },
  {
   "cell_type": "code",
   "execution_count": null,
   "metadata": {
    "id": "ByaQ_Gr4ubc9"
   },
   "outputs": [],
   "source": [
    "# importing Libararies :-\n",
    "\n",
    "from prophet import Prophet"
   ]
  },
  {
   "cell_type": "code",
   "execution_count": null,
   "metadata": {
    "id": "HzTaVcY4ubab"
   },
   "outputs": [],
   "source": [
    "model = Prophet()"
   ]
  },
  {
   "cell_type": "code",
   "execution_count": null,
   "metadata": {
    "colab": {
     "base_uri": "https://localhost:8080/"
    },
    "id": "jbN8I-wZubXx",
    "outputId": "ae121c1d-d20b-4937-c71a-0d63611d438a"
   },
   "outputs": [],
   "source": [
    "model.fit(confirmed)"
   ]
  },
  {
   "cell_type": "code",
   "execution_count": null,
   "metadata": {
    "id": "Mn_3G8XCubVO"
   },
   "outputs": [],
   "source": [
    "future=model.make_future_dataframe(periods=7,freq='D')"
   ]
  },
  {
   "cell_type": "markdown",
   "metadata": {
    "id": "HYmES5CUYSe6"
   },
   "source": [
    "# forecasting :"
   ]
  },
  {
   "cell_type": "code",
   "execution_count": null,
   "metadata": {
    "colab": {
     "base_uri": "https://localhost:8080/",
     "height": 269
    },
    "id": "XfOuQL-FubSz",
    "outputId": "9e5de85c-5160-4543-d1dc-826ae9186245"
   },
   "outputs": [],
   "source": [
    "forecast=model.predict(future)\n",
    "forecast[['ds','yhat','yhat_upper','yhat_lower']].tail(7)  #predicted"
   ]
  },
  {
   "cell_type": "markdown",
   "metadata": {
    "id": "UKzSEfXxYPRG"
   },
   "source": [
    "# Visualize"
   ]
  },
  {
   "cell_type": "code",
   "execution_count": null,
   "metadata": {
    "colab": {
     "base_uri": "https://localhost:8080/",
     "height": 614
    },
    "id": "iWZJ11qwUv9u",
    "outputId": "a1de7795-b747-42d0-a8de-797c88e01ce6"
   },
   "outputs": [],
   "source": [
    "model.plot(forecast)\n",
    "plt.title(\"Forecast of Confirmed_Cases\")\n",
    "plt.show()"
   ]
  },
  {
   "cell_type": "markdown",
   "metadata": {
    "id": "C6f2wRZ_YpG6"
   },
   "source": [
    "# Insights:\n",
    "\n",
    "* \"dots\" shows the datapoints or the values of the dataset(confirmed).\n",
    "* 'extended blue line' shows the predicted values for 7 days."
   ]
  },
  {
   "cell_type": "markdown",
   "metadata": {
    "id": "FME9HqkIi9vD"
   },
   "source": [
    "# 2. Let's Forecast for Recovered Cases"
   ]
  },
  {
   "cell_type": "code",
   "execution_count": null,
   "metadata": {
    "colab": {
     "base_uri": "https://localhost:8080/",
     "height": 206
    },
    "id": "-aYRqxKHUv3c",
    "outputId": "9c3c01e5-8962-451c-86fa-9a3bfba5654d"
   },
   "outputs": [],
   "source": [
    "# renaming the columns of recovered dataset\n",
    "\n",
    "recovered.columns=['ds','y']\n",
    "\n",
    "recovered.head()"
   ]
  },
  {
   "cell_type": "markdown",
   "metadata": {
    "id": "l3b156FqkJlB"
   },
   "source": [
    "# Model & Forecast"
   ]
  },
  {
   "cell_type": "code",
   "execution_count": null,
   "metadata": {
    "colab": {
     "base_uri": "https://localhost:8080/",
     "height": 479
    },
    "id": "pvNb4NjMUv0h",
    "outputId": "f0661916-5006-40f8-ce9b-8f28eeba5e7a"
   },
   "outputs": [],
   "source": [
    "model01=Prophet()\n",
    "model01.fit(recovered)\n",
    "\n",
    "future01=model01.make_future_dataframe(periods=7,freq='D')\n",
    "\n",
    "forecast01=model01.predict(future01)\n",
    "forecast01[['ds','yhat','yhat_upper','yhat_lower']].tail(7)"
   ]
  },
  {
   "cell_type": "markdown",
   "metadata": {
    "id": "DSxwuvzbkWKK"
   },
   "source": [
    "# visualize"
   ]
  },
  {
   "cell_type": "code",
   "execution_count": null,
   "metadata": {
    "colab": {
     "base_uri": "https://localhost:8080/",
     "height": 614
    },
    "id": "DaAghu8rkZoI",
    "outputId": "4ec13673-2502-4b44-8cd0-5e5ad246f1b2"
   },
   "outputs": [],
   "source": [
    "model01.plot(forecast01)\n",
    "plt.title(\"Forecast of Recovered_Cases\")\n",
    "plt.show()"
   ]
  },
  {
   "cell_type": "markdown",
   "metadata": {
    "id": "UZX1l3btra4f"
   },
   "source": [
    "# Insights:\n",
    "\n",
    "* \"dots\" shows the datapoints or the values of the dataset(recovered).\n",
    "* 'extended blue line' shows the predicted values for 7 days."
   ]
  },
  {
   "cell_type": "markdown",
   "metadata": {
    "id": "DPhmSJ0hlAIG"
   },
   "source": [
    "# 3. Let's Forecast for Death Cases"
   ]
  },
  {
   "cell_type": "code",
   "execution_count": null,
   "metadata": {
    "colab": {
     "base_uri": "https://localhost:8080/",
     "height": 206
    },
    "id": "Omqd5xGxkZkr",
    "outputId": "b3b919d5-3343-4ff0-8587-2ca54fa61535"
   },
   "outputs": [],
   "source": [
    "# renaming for columns of dataset deaths\n",
    "\n",
    "deaths.columns=['ds','y']\n",
    "deaths.head()"
   ]
  },
  {
   "cell_type": "markdown",
   "metadata": {
    "id": "dRkHFzd5lszn"
   },
   "source": [
    "# Model and Forecast"
   ]
  },
  {
   "cell_type": "code",
   "execution_count": null,
   "metadata": {
    "colab": {
     "base_uri": "https://localhost:8080/",
     "height": 479
    },
    "id": "fdS5OORLkZhv",
    "outputId": "54d3be15-15bb-4bb9-f04d-74a980485df5"
   },
   "outputs": [],
   "source": [
    "model02=Prophet()\n",
    "model02.fit(deaths)\n",
    "\n",
    "future02=model02.make_future_dataframe(periods=7,freq='D')\n",
    "\n",
    "forecast02=model02.predict(future02)\n",
    "forecast02[['ds','yhat','yhat_upper','yhat_lower']].tail(7)"
   ]
  },
  {
   "cell_type": "markdown",
   "metadata": {
    "id": "4W4xMkVNmgTS"
   },
   "source": [
    "# Visualize"
   ]
  },
  {
   "cell_type": "code",
   "execution_count": null,
   "metadata": {
    "colab": {
     "base_uri": "https://localhost:8080/",
     "height": 629
    },
    "id": "0z8w19CxkZeh",
    "outputId": "1e90fae0-dc82-4153-fd6d-31ad6e22d0a2"
   },
   "outputs": [],
   "source": [
    "model02.plot(forecast02)\n",
    "plt.title(\"Forecast for death cases\")\n",
    "plt.show()"
   ]
  },
  {
   "cell_type": "markdown",
   "metadata": {
    "id": "9YmCC1BOre45"
   },
   "source": [
    "# Insights:\n",
    "\n",
    "* \"dots\" shows the datapoints or the values of the dataset(deaths).\n",
    "* 'extended blue line' shows the predicted values for 7 days."
   ]
  },
  {
   "cell_type": "markdown",
   "metadata": {
    "id": "onGSn6aBnYzf"
   },
   "source": [
    "# 4. Let's Forecast for the Active Cases :"
   ]
  },
  {
   "cell_type": "code",
   "execution_count": null,
   "metadata": {
    "colab": {
     "base_uri": "https://localhost:8080/",
     "height": 206
    },
    "id": "1Y0isLddkZb1",
    "outputId": "4283e729-efdb-4e21-e707-3b955214979c"
   },
   "outputs": [],
   "source": [
    "# renaming the columns of Active dataset\n",
    "\n",
    "active.columns=['ds','y']\n",
    "active.head()"
   ]
  },
  {
   "cell_type": "markdown",
   "metadata": {
    "id": "6xOpPZhpqQLa"
   },
   "source": [
    "# Model and Forecast"
   ]
  },
  {
   "cell_type": "code",
   "execution_count": null,
   "metadata": {
    "colab": {
     "base_uri": "https://localhost:8080/",
     "height": 479
    },
    "id": "us9xxrgGp0Yp",
    "outputId": "1d1a44b1-7d1c-4342-96c8-b9e732db1fa5"
   },
   "outputs": [],
   "source": [
    "model03=Prophet()\n",
    "model03.fit(active)\n",
    "\n",
    "future03=model03.make_future_dataframe(periods=7,freq='D')\n",
    "\n",
    "forecast03=model03.predict(future03)\n",
    "forecast03[['ds','yhat','yhat_upper','yhat_lower']].tail(7)"
   ]
  },
  {
   "cell_type": "markdown",
   "metadata": {
    "id": "biHdSU4Fq9ko"
   },
   "source": [
    "# Visualize"
   ]
  },
  {
   "cell_type": "code",
   "execution_count": null,
   "metadata": {
    "colab": {
     "base_uri": "https://localhost:8080/",
     "height": 614
    },
    "id": "vWTQwEjCp0VO",
    "outputId": "b0b0a096-23b5-4eed-f9c5-ea1f1c87ac72"
   },
   "outputs": [],
   "source": [
    "model03.plot(forecast03)\n",
    "plt.title(\"Forecast for Active cases\")\n",
    "plt.show()"
   ]
  },
  {
   "cell_type": "markdown",
   "metadata": {
    "id": "6rlfDiFxriqY"
   },
   "source": [
    "# Insights:\n",
    "\n",
    "* \"dots\" shows the datapoints or the values of the dataset(active).\n",
    "* 'extended blue line' shows the predicted values for 7 days."
   ]
  },
  {
   "cell_type": "markdown",
   "metadata": {
    "id": "077FoSY3rzi9"
   },
   "source": [
    "# **Creating the World Map using Plotly.**"
   ]
  },
  {
   "cell_type": "code",
   "execution_count": null,
   "metadata": {
    "id": "5pd2d7cQp0SW"
   },
   "outputs": [],
   "source": [
    "import plotly\n",
    "import plotly.express as px"
   ]
  },
  {
   "cell_type": "code",
   "execution_count": null,
   "metadata": {
    "colab": {
     "base_uri": "https://localhost:8080/"
    },
    "id": "vt0e6c7xp0Pi",
    "outputId": "633f624e-fb18-4fe0-a186-3cc3043f9eb9"
   },
   "outputs": [],
   "source": [
    "world=df.groupby(by='Country')[['Confirmed','Active','Deaths','Recovered']].sum().reset_index()\n",
    "world.shape"
   ]
  },
  {
   "cell_type": "markdown",
   "metadata": {
    "id": "1BYZnE9iyMx4"
   },
   "source": [
    "# 1. World Map Visual for Active Cases."
   ]
  },
  {
   "cell_type": "code",
   "execution_count": null,
   "metadata": {
    "colab": {
     "base_uri": "https://localhost:8080/",
     "height": 542
    },
    "id": "N1K7qA7Jp0NL",
    "outputId": "5305b5cd-94af-4ba5-e371-314cb3d4a66b"
   },
   "outputs": [],
   "source": [
    "figure_active = px.choropleth(world,locations='Country',\n",
    "                       locationmode='country names',\n",
    "                       color='Active',\n",
    "                       hover_name='Country',range_color=[1,20000],\n",
    "                       color_continuous_scale='Rainbow',\n",
    "                       title='Countries with Active Cases')\n",
    "figure_active.show()"
   ]
  },
  {
   "cell_type": "markdown",
   "metadata": {
    "id": "bl4hojouyVdW"
   },
   "source": [
    "# 2. World Map for Recovered Cases."
   ]
  },
  {
   "cell_type": "code",
   "execution_count": null,
   "metadata": {
    "colab": {
     "base_uri": "https://localhost:8080/",
     "height": 542
    },
    "id": "42-TjImKpzFu",
    "outputId": "3535dd9b-732f-4e44-d647-fbb1d56ae6d8"
   },
   "outputs": [],
   "source": [
    "figure_recovered = px.choropleth(world,locations='Country',\n",
    "                       locationmode='country names',\n",
    "                       color='Recovered',\n",
    "                       hover_name='Country',range_color=[1,20000],\n",
    "                       color_continuous_scale='Darkmint',\n",
    "                       title='Countries with Recovered Cases')\n",
    "figure_recovered.show()"
   ]
  },
  {
   "cell_type": "markdown",
   "metadata": {
    "id": "zStiu_uQysDg"
   },
   "source": [
    "# 3. World Map for Confirmed Cases."
   ]
  },
  {
   "cell_type": "code",
   "execution_count": null,
   "metadata": {
    "colab": {
     "base_uri": "https://localhost:8080/",
     "height": 542
    },
    "id": "gKdkNA5QpzCa",
    "outputId": "b682bb38-3636-42f8-dbcc-8ebc47a42848"
   },
   "outputs": [],
   "source": [
    "figure_confirmed = px.choropleth(world,locations='Country',\n",
    "                       locationmode='country names',\n",
    "                       color='Confirmed',\n",
    "                       hover_name='Country',range_color=[1,20000],\n",
    "                       color_continuous_scale='Agsunset',\n",
    "                       title='Countries with Confirmed Cases')\n",
    "figure_confirmed.show()"
   ]
  },
  {
   "cell_type": "markdown",
   "metadata": {
    "id": "3_ZAmNCfzOrE"
   },
   "source": [
    "# 4. World Map for Deaths Cases."
   ]
  },
  {
   "cell_type": "code",
   "execution_count": null,
   "metadata": {
    "colab": {
     "base_uri": "https://localhost:8080/",
     "height": 542
    },
    "id": "r6uCrpZUpy_Q",
    "outputId": "dd2e4aa5-a9c3-480f-e849-5b22671872e2"
   },
   "outputs": [],
   "source": [
    "figure_deaths = px.choropleth(world,locations='Country',\n",
    "                       locationmode='country names',\n",
    "                       color='Deaths',\n",
    "                       hover_name='Country',range_color=[1,20000],\n",
    "                       color_continuous_scale='haline',\n",
    "                       title='Countries with Deaths Cases')\n",
    "figure_deaths.show()"
   ]
  },
  {
   "cell_type": "markdown",
   "metadata": {
    "id": "pmmDsOEZhmpf"
   },
   "source": [
    "# **The End Thanks**"
   ]
  },
  {
   "cell_type": "code",
   "execution_count": null,
   "metadata": {
    "id": "RX7WCUl-pyzt"
   },
   "outputs": [],
   "source": []
  },
  {
   "cell_type": "code",
   "execution_count": null,
   "metadata": {
    "id": "pYeJmyh6pyw2"
   },
   "outputs": [],
   "source": []
  },
  {
   "cell_type": "code",
   "execution_count": null,
   "metadata": {
    "id": "z6CZqOcqpyuJ"
   },
   "outputs": [],
   "source": []
  },
  {
   "cell_type": "code",
   "execution_count": null,
   "metadata": {
    "id": "sHdMPivQpyrP"
   },
   "outputs": [],
   "source": []
  },
  {
   "cell_type": "markdown",
   "metadata": {
    "id": "Pmouy1rJX6Gh"
   },
   "source": []
  }
 ],
 "metadata": {
  "colab": {
   "provenance": []
  },
  "kernelspec": {
   "display_name": "Python 3 (ipykernel)",
   "language": "python",
   "name": "python3"
  },
  "language_info": {
   "codemirror_mode": {
    "name": "ipython",
    "version": 3
   },
   "file_extension": ".py",
   "mimetype": "text/x-python",
   "name": "python",
   "nbconvert_exporter": "python",
   "pygments_lexer": "ipython3",
   "version": "3.12.4"
  }
 },
 "nbformat": 4,
 "nbformat_minor": 4
}
